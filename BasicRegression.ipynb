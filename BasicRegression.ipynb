{
  "nbformat": 4,
  "nbformat_minor": 0,
  "metadata": {
    "colab": {
      "name": "Untitled1.ipynb",
      "provenance": [],
      "collapsed_sections": []
    },
    "kernelspec": {
      "name": "python3",
      "display_name": "Python 3"
    },
    "language_info": {
      "name": "python"
    }
  },
  "cells": [
    {
      "cell_type": "code",
      "metadata": {
        "id": "dip-uGmc6FYM"
      },
      "source": [
        "import numpy as np\n",
        "import pandas as pd\n",
        "import matplotlib.pyplot as plt\n",
        "import seaborn as sns\n",
        "%matplotlib inline"
      ],
      "execution_count": null,
      "outputs": []
    },
    {
      "cell_type": "code",
      "metadata": {
        "colab": {
          "base_uri": "https://localhost:8080/",
          "height": 979
        },
        "id": "nUtU2Z3nAUMm",
        "outputId": "bc5df228-50ef-4e79-c698-c7a2a3856a64"
      },
      "source": [
        "data = pd.read_csv(\"TehranhousePrice.csv\").drop(columns=[\"Price\"])\n",
        "data.head(30)"
      ],
      "execution_count": null,
      "outputs": [
        {
          "output_type": "execute_result",
          "data": {
            "text/html": [
              "<div>\n",
              "<style scoped>\n",
              "    .dataframe tbody tr th:only-of-type {\n",
              "        vertical-align: middle;\n",
              "    }\n",
              "\n",
              "    .dataframe tbody tr th {\n",
              "        vertical-align: top;\n",
              "    }\n",
              "\n",
              "    .dataframe thead th {\n",
              "        text-align: right;\n",
              "    }\n",
              "</style>\n",
              "<table border=\"1\" class=\"dataframe\">\n",
              "  <thead>\n",
              "    <tr style=\"text-align: right;\">\n",
              "      <th></th>\n",
              "      <th>Area</th>\n",
              "      <th>Room</th>\n",
              "      <th>Parking</th>\n",
              "      <th>Warehouse</th>\n",
              "      <th>Elevator</th>\n",
              "      <th>Address</th>\n",
              "      <th>Price(USD)</th>\n",
              "    </tr>\n",
              "  </thead>\n",
              "  <tbody>\n",
              "    <tr>\n",
              "      <th>0</th>\n",
              "      <td>63</td>\n",
              "      <td>1</td>\n",
              "      <td>True</td>\n",
              "      <td>True</td>\n",
              "      <td>True</td>\n",
              "      <td>Shahran</td>\n",
              "      <td>61666.67</td>\n",
              "    </tr>\n",
              "    <tr>\n",
              "      <th>1</th>\n",
              "      <td>60</td>\n",
              "      <td>1</td>\n",
              "      <td>True</td>\n",
              "      <td>True</td>\n",
              "      <td>True</td>\n",
              "      <td>Shahran</td>\n",
              "      <td>61666.67</td>\n",
              "    </tr>\n",
              "    <tr>\n",
              "      <th>2</th>\n",
              "      <td>79</td>\n",
              "      <td>2</td>\n",
              "      <td>True</td>\n",
              "      <td>True</td>\n",
              "      <td>True</td>\n",
              "      <td>Pardis</td>\n",
              "      <td>18333.33</td>\n",
              "    </tr>\n",
              "    <tr>\n",
              "      <th>3</th>\n",
              "      <td>95</td>\n",
              "      <td>2</td>\n",
              "      <td>True</td>\n",
              "      <td>True</td>\n",
              "      <td>True</td>\n",
              "      <td>Shahrake Qods</td>\n",
              "      <td>30083.33</td>\n",
              "    </tr>\n",
              "    <tr>\n",
              "      <th>4</th>\n",
              "      <td>123</td>\n",
              "      <td>2</td>\n",
              "      <td>True</td>\n",
              "      <td>True</td>\n",
              "      <td>True</td>\n",
              "      <td>Shahrake Gharb</td>\n",
              "      <td>233333.33</td>\n",
              "    </tr>\n",
              "    <tr>\n",
              "      <th>5</th>\n",
              "      <td>70</td>\n",
              "      <td>2</td>\n",
              "      <td>True</td>\n",
              "      <td>True</td>\n",
              "      <td>False</td>\n",
              "      <td>North Program Organization</td>\n",
              "      <td>68333.33</td>\n",
              "    </tr>\n",
              "    <tr>\n",
              "      <th>6</th>\n",
              "      <td>87</td>\n",
              "      <td>2</td>\n",
              "      <td>True</td>\n",
              "      <td>True</td>\n",
              "      <td>True</td>\n",
              "      <td>Pardis</td>\n",
              "      <td>20000.00</td>\n",
              "    </tr>\n",
              "    <tr>\n",
              "      <th>7</th>\n",
              "      <td>59</td>\n",
              "      <td>1</td>\n",
              "      <td>True</td>\n",
              "      <td>True</td>\n",
              "      <td>True</td>\n",
              "      <td>Shahran</td>\n",
              "      <td>71666.67</td>\n",
              "    </tr>\n",
              "    <tr>\n",
              "      <th>8</th>\n",
              "      <td>54</td>\n",
              "      <td>2</td>\n",
              "      <td>True</td>\n",
              "      <td>True</td>\n",
              "      <td>False</td>\n",
              "      <td>Andisheh</td>\n",
              "      <td>16433.33</td>\n",
              "    </tr>\n",
              "    <tr>\n",
              "      <th>9</th>\n",
              "      <td>71</td>\n",
              "      <td>1</td>\n",
              "      <td>True</td>\n",
              "      <td>True</td>\n",
              "      <td>True</td>\n",
              "      <td>West Ferdows Boulevard</td>\n",
              "      <td>79000.00</td>\n",
              "    </tr>\n",
              "    <tr>\n",
              "      <th>10</th>\n",
              "      <td>68</td>\n",
              "      <td>2</td>\n",
              "      <td>True</td>\n",
              "      <td>True</td>\n",
              "      <td>True</td>\n",
              "      <td>West Ferdows Boulevard</td>\n",
              "      <td>81666.67</td>\n",
              "    </tr>\n",
              "    <tr>\n",
              "      <th>11</th>\n",
              "      <td>64</td>\n",
              "      <td>1</td>\n",
              "      <td>True</td>\n",
              "      <td>True</td>\n",
              "      <td>True</td>\n",
              "      <td>Narmak</td>\n",
              "      <td>70000.00</td>\n",
              "    </tr>\n",
              "    <tr>\n",
              "      <th>12</th>\n",
              "      <td>54</td>\n",
              "      <td>1</td>\n",
              "      <td>False</td>\n",
              "      <td>True</td>\n",
              "      <td>True</td>\n",
              "      <td>Narmak</td>\n",
              "      <td>56333.33</td>\n",
              "    </tr>\n",
              "    <tr>\n",
              "      <th>13</th>\n",
              "      <td>136</td>\n",
              "      <td>3</td>\n",
              "      <td>True</td>\n",
              "      <td>True</td>\n",
              "      <td>True</td>\n",
              "      <td>Saadat Abad</td>\n",
              "      <td>366666.67</td>\n",
              "    </tr>\n",
              "    <tr>\n",
              "      <th>14</th>\n",
              "      <td>95</td>\n",
              "      <td>2</td>\n",
              "      <td>True</td>\n",
              "      <td>True</td>\n",
              "      <td>True</td>\n",
              "      <td>Zafar</td>\n",
              "      <td>166666.67</td>\n",
              "    </tr>\n",
              "    <tr>\n",
              "      <th>15</th>\n",
              "      <td>63</td>\n",
              "      <td>1</td>\n",
              "      <td>False</td>\n",
              "      <td>True</td>\n",
              "      <td>False</td>\n",
              "      <td>Islamshahr</td>\n",
              "      <td>19000.00</td>\n",
              "    </tr>\n",
              "    <tr>\n",
              "      <th>16</th>\n",
              "      <td>155</td>\n",
              "      <td>3</td>\n",
              "      <td>True</td>\n",
              "      <td>True</td>\n",
              "      <td>True</td>\n",
              "      <td>Narmak</td>\n",
              "      <td>223333.33</td>\n",
              "    </tr>\n",
              "    <tr>\n",
              "      <th>17</th>\n",
              "      <td>64</td>\n",
              "      <td>2</td>\n",
              "      <td>False</td>\n",
              "      <td>True</td>\n",
              "      <td>False</td>\n",
              "      <td>Pirouzi</td>\n",
              "      <td>48333.33</td>\n",
              "    </tr>\n",
              "    <tr>\n",
              "      <th>18</th>\n",
              "      <td>140</td>\n",
              "      <td>3</td>\n",
              "      <td>True</td>\n",
              "      <td>True</td>\n",
              "      <td>True</td>\n",
              "      <td>West Ferdows Boulevard</td>\n",
              "      <td>213333.33</td>\n",
              "    </tr>\n",
              "    <tr>\n",
              "      <th>19</th>\n",
              "      <td>42</td>\n",
              "      <td>1</td>\n",
              "      <td>False</td>\n",
              "      <td>True</td>\n",
              "      <td>False</td>\n",
              "      <td>Pirouzi</td>\n",
              "      <td>46333.33</td>\n",
              "    </tr>\n",
              "    <tr>\n",
              "      <th>20</th>\n",
              "      <td>93</td>\n",
              "      <td>2</td>\n",
              "      <td>True</td>\n",
              "      <td>True</td>\n",
              "      <td>True</td>\n",
              "      <td>Shahrake Gharb</td>\n",
              "      <td>233333.33</td>\n",
              "    </tr>\n",
              "    <tr>\n",
              "      <th>21</th>\n",
              "      <td>87</td>\n",
              "      <td>2</td>\n",
              "      <td>True</td>\n",
              "      <td>True</td>\n",
              "      <td>True</td>\n",
              "      <td>Shahrake Shahid Bagheri</td>\n",
              "      <td>83333.33</td>\n",
              "    </tr>\n",
              "    <tr>\n",
              "      <th>22</th>\n",
              "      <td>65</td>\n",
              "      <td>1</td>\n",
              "      <td>True</td>\n",
              "      <td>True</td>\n",
              "      <td>True</td>\n",
              "      <td>Shahran</td>\n",
              "      <td>62666.67</td>\n",
              "    </tr>\n",
              "    <tr>\n",
              "      <th>23</th>\n",
              "      <td>99</td>\n",
              "      <td>2</td>\n",
              "      <td>True</td>\n",
              "      <td>True</td>\n",
              "      <td>True</td>\n",
              "      <td>Moniriyeh</td>\n",
              "      <td>75900.00</td>\n",
              "    </tr>\n",
              "    <tr>\n",
              "      <th>24</th>\n",
              "      <td>105</td>\n",
              "      <td>2</td>\n",
              "      <td>True</td>\n",
              "      <td>True</td>\n",
              "      <td>True</td>\n",
              "      <td>Saadat Abad</td>\n",
              "      <td>238333.33</td>\n",
              "    </tr>\n",
              "    <tr>\n",
              "      <th>25</th>\n",
              "      <td>160</td>\n",
              "      <td>3</td>\n",
              "      <td>True</td>\n",
              "      <td>True</td>\n",
              "      <td>True</td>\n",
              "      <td>Velenjak</td>\n",
              "      <td>498166.67</td>\n",
              "    </tr>\n",
              "    <tr>\n",
              "      <th>26</th>\n",
              "      <td>77</td>\n",
              "      <td>2</td>\n",
              "      <td>True</td>\n",
              "      <td>True</td>\n",
              "      <td>True</td>\n",
              "      <td>Amirieh</td>\n",
              "      <td>59033.33</td>\n",
              "    </tr>\n",
              "    <tr>\n",
              "      <th>27</th>\n",
              "      <td>123</td>\n",
              "      <td>2</td>\n",
              "      <td>True</td>\n",
              "      <td>True</td>\n",
              "      <td>True</td>\n",
              "      <td>Pirouzi</td>\n",
              "      <td>135300.00</td>\n",
              "    </tr>\n",
              "    <tr>\n",
              "      <th>28</th>\n",
              "      <td>110</td>\n",
              "      <td>2</td>\n",
              "      <td>True</td>\n",
              "      <td>True</td>\n",
              "      <td>True</td>\n",
              "      <td>Southern Janatabad</td>\n",
              "      <td>21000.00</td>\n",
              "    </tr>\n",
              "    <tr>\n",
              "      <th>29</th>\n",
              "      <td>100</td>\n",
              "      <td>2</td>\n",
              "      <td>True</td>\n",
              "      <td>True</td>\n",
              "      <td>True</td>\n",
              "      <td>West Ferdows Boulevard</td>\n",
              "      <td>106666.67</td>\n",
              "    </tr>\n",
              "  </tbody>\n",
              "</table>\n",
              "</div>"
            ],
            "text/plain": [
              "   Area  Room  Parking  ...  Elevator                     Address Price(USD)\n",
              "0    63     1     True  ...      True                     Shahran   61666.67\n",
              "1    60     1     True  ...      True                     Shahran   61666.67\n",
              "2    79     2     True  ...      True                      Pardis   18333.33\n",
              "3    95     2     True  ...      True               Shahrake Qods   30083.33\n",
              "4   123     2     True  ...      True              Shahrake Gharb  233333.33\n",
              "5    70     2     True  ...     False  North Program Organization   68333.33\n",
              "6    87     2     True  ...      True                      Pardis   20000.00\n",
              "7    59     1     True  ...      True                     Shahran   71666.67\n",
              "8    54     2     True  ...     False                    Andisheh   16433.33\n",
              "9    71     1     True  ...      True      West Ferdows Boulevard   79000.00\n",
              "10   68     2     True  ...      True      West Ferdows Boulevard   81666.67\n",
              "11   64     1     True  ...      True                      Narmak   70000.00\n",
              "12   54     1    False  ...      True                      Narmak   56333.33\n",
              "13  136     3     True  ...      True                 Saadat Abad  366666.67\n",
              "14   95     2     True  ...      True                       Zafar  166666.67\n",
              "15   63     1    False  ...     False                  Islamshahr   19000.00\n",
              "16  155     3     True  ...      True                      Narmak  223333.33\n",
              "17   64     2    False  ...     False                     Pirouzi   48333.33\n",
              "18  140     3     True  ...      True      West Ferdows Boulevard  213333.33\n",
              "19   42     1    False  ...     False                     Pirouzi   46333.33\n",
              "20   93     2     True  ...      True              Shahrake Gharb  233333.33\n",
              "21   87     2     True  ...      True     Shahrake Shahid Bagheri   83333.33\n",
              "22   65     1     True  ...      True                     Shahran   62666.67\n",
              "23   99     2     True  ...      True                   Moniriyeh   75900.00\n",
              "24  105     2     True  ...      True                 Saadat Abad  238333.33\n",
              "25  160     3     True  ...      True                    Velenjak  498166.67\n",
              "26   77     2     True  ...      True                     Amirieh   59033.33\n",
              "27  123     2     True  ...      True                     Pirouzi  135300.00\n",
              "28  110     2     True  ...      True          Southern Janatabad   21000.00\n",
              "29  100     2     True  ...      True      West Ferdows Boulevard  106666.67\n",
              "\n",
              "[30 rows x 7 columns]"
            ]
          },
          "metadata": {},
          "execution_count": 4
        }
      ]
    },
    {
      "cell_type": "code",
      "metadata": {
        "colab": {
          "base_uri": "https://localhost:8080/"
        },
        "id": "RvPLXXpnAcNN",
        "outputId": "ce1b9f54-2a95-4d97-f755-f1723f8fdd0d"
      },
      "source": [
        "data.info()"
      ],
      "execution_count": null,
      "outputs": [
        {
          "output_type": "stream",
          "name": "stdout",
          "text": [
            "<class 'pandas.core.frame.DataFrame'>\n",
            "RangeIndex: 3479 entries, 0 to 3478\n",
            "Data columns (total 7 columns):\n",
            " #   Column      Non-Null Count  Dtype  \n",
            "---  ------      --------------  -----  \n",
            " 0   Area        3479 non-null   object \n",
            " 1   Room        3479 non-null   int64  \n",
            " 2   Parking     3479 non-null   bool   \n",
            " 3   Warehouse   3479 non-null   bool   \n",
            " 4   Elevator    3479 non-null   bool   \n",
            " 5   Address     3456 non-null   object \n",
            " 6   Price(USD)  3479 non-null   float64\n",
            "dtypes: bool(3), float64(1), int64(1), object(2)\n",
            "memory usage: 119.0+ KB\n"
          ]
        }
      ]
    },
    {
      "cell_type": "code",
      "metadata": {
        "id": "fE7LPginKLJc",
        "colab": {
          "base_uri": "https://localhost:8080/",
          "height": 419
        },
        "outputId": "73b0d297-c1de-46d7-86d6-83d19268b287"
      },
      "source": [
        "data = data.drop_duplicates(\"Address\")\n",
        "data"
      ],
      "execution_count": null,
      "outputs": [
        {
          "output_type": "execute_result",
          "data": {
            "text/html": [
              "<div>\n",
              "<style scoped>\n",
              "    .dataframe tbody tr th:only-of-type {\n",
              "        vertical-align: middle;\n",
              "    }\n",
              "\n",
              "    .dataframe tbody tr th {\n",
              "        vertical-align: top;\n",
              "    }\n",
              "\n",
              "    .dataframe thead th {\n",
              "        text-align: right;\n",
              "    }\n",
              "</style>\n",
              "<table border=\"1\" class=\"dataframe\">\n",
              "  <thead>\n",
              "    <tr style=\"text-align: right;\">\n",
              "      <th></th>\n",
              "      <th>Area</th>\n",
              "      <th>Room</th>\n",
              "      <th>Parking</th>\n",
              "      <th>Warehouse</th>\n",
              "      <th>Elevator</th>\n",
              "      <th>Address</th>\n",
              "      <th>Price(USD)</th>\n",
              "    </tr>\n",
              "  </thead>\n",
              "  <tbody>\n",
              "    <tr>\n",
              "      <th>0</th>\n",
              "      <td>63</td>\n",
              "      <td>1</td>\n",
              "      <td>True</td>\n",
              "      <td>True</td>\n",
              "      <td>True</td>\n",
              "      <td>Shahran</td>\n",
              "      <td>61666.67</td>\n",
              "    </tr>\n",
              "    <tr>\n",
              "      <th>2</th>\n",
              "      <td>79</td>\n",
              "      <td>2</td>\n",
              "      <td>True</td>\n",
              "      <td>True</td>\n",
              "      <td>True</td>\n",
              "      <td>Pardis</td>\n",
              "      <td>18333.33</td>\n",
              "    </tr>\n",
              "    <tr>\n",
              "      <th>3</th>\n",
              "      <td>95</td>\n",
              "      <td>2</td>\n",
              "      <td>True</td>\n",
              "      <td>True</td>\n",
              "      <td>True</td>\n",
              "      <td>Shahrake Qods</td>\n",
              "      <td>30083.33</td>\n",
              "    </tr>\n",
              "    <tr>\n",
              "      <th>4</th>\n",
              "      <td>123</td>\n",
              "      <td>2</td>\n",
              "      <td>True</td>\n",
              "      <td>True</td>\n",
              "      <td>True</td>\n",
              "      <td>Shahrake Gharb</td>\n",
              "      <td>233333.33</td>\n",
              "    </tr>\n",
              "    <tr>\n",
              "      <th>5</th>\n",
              "      <td>70</td>\n",
              "      <td>2</td>\n",
              "      <td>True</td>\n",
              "      <td>True</td>\n",
              "      <td>False</td>\n",
              "      <td>North Program Organization</td>\n",
              "      <td>68333.33</td>\n",
              "    </tr>\n",
              "    <tr>\n",
              "      <th>...</th>\n",
              "      <td>...</td>\n",
              "      <td>...</td>\n",
              "      <td>...</td>\n",
              "      <td>...</td>\n",
              "      <td>...</td>\n",
              "      <td>...</td>\n",
              "      <td>...</td>\n",
              "    </tr>\n",
              "    <tr>\n",
              "      <th>3296</th>\n",
              "      <td>84</td>\n",
              "      <td>2</td>\n",
              "      <td>False</td>\n",
              "      <td>True</td>\n",
              "      <td>True</td>\n",
              "      <td>Vahidiyeh</td>\n",
              "      <td>19600.00</td>\n",
              "    </tr>\n",
              "    <tr>\n",
              "      <th>3297</th>\n",
              "      <td>69</td>\n",
              "      <td>1</td>\n",
              "      <td>True</td>\n",
              "      <td>True</td>\n",
              "      <td>True</td>\n",
              "      <td>Shadabad</td>\n",
              "      <td>29666.67</td>\n",
              "    </tr>\n",
              "    <tr>\n",
              "      <th>3323</th>\n",
              "      <td>42</td>\n",
              "      <td>1</td>\n",
              "      <td>False</td>\n",
              "      <td>False</td>\n",
              "      <td>False</td>\n",
              "      <td>Naziabad</td>\n",
              "      <td>21333.33</td>\n",
              "    </tr>\n",
              "    <tr>\n",
              "      <th>3404</th>\n",
              "      <td>63</td>\n",
              "      <td>3</td>\n",
              "      <td>False</td>\n",
              "      <td>True</td>\n",
              "      <td>False</td>\n",
              "      <td>Javadiyeh</td>\n",
              "      <td>48333.33</td>\n",
              "    </tr>\n",
              "    <tr>\n",
              "      <th>3426</th>\n",
              "      <td>66</td>\n",
              "      <td>2</td>\n",
              "      <td>False</td>\n",
              "      <td>True</td>\n",
              "      <td>False</td>\n",
              "      <td>Yakhchiabad</td>\n",
              "      <td>33333.33</td>\n",
              "    </tr>\n",
              "  </tbody>\n",
              "</table>\n",
              "<p>193 rows × 7 columns</p>\n",
              "</div>"
            ],
            "text/plain": [
              "     Area  Room  Parking  ...  Elevator                     Address Price(USD)\n",
              "0      63     1     True  ...      True                     Shahran   61666.67\n",
              "2      79     2     True  ...      True                      Pardis   18333.33\n",
              "3      95     2     True  ...      True               Shahrake Qods   30083.33\n",
              "4     123     2     True  ...      True              Shahrake Gharb  233333.33\n",
              "5      70     2     True  ...     False  North Program Organization   68333.33\n",
              "...   ...   ...      ...  ...       ...                         ...        ...\n",
              "3296   84     2    False  ...      True                   Vahidiyeh   19600.00\n",
              "3297   69     1     True  ...      True                    Shadabad   29666.67\n",
              "3323   42     1    False  ...     False                    Naziabad   21333.33\n",
              "3404   63     3    False  ...     False                   Javadiyeh   48333.33\n",
              "3426   66     2    False  ...     False                 Yakhchiabad   33333.33\n",
              "\n",
              "[193 rows x 7 columns]"
            ]
          },
          "metadata": {},
          "execution_count": 20
        }
      ]
    },
    {
      "cell_type": "code",
      "metadata": {
        "colab": {
          "base_uri": "https://localhost:8080/",
          "height": 204
        },
        "id": "n3Y1QA01SrBi",
        "outputId": "334ecb0e-d70c-44bc-e08e-049ba535d084"
      },
      "source": [
        "data.var"
      ],
      "execution_count": null,
      "outputs": [
        {
          "output_type": "execute_result",
          "data": {
            "text/html": [
              "<div>\n",
              "<style scoped>\n",
              "    .dataframe tbody tr th:only-of-type {\n",
              "        vertical-align: middle;\n",
              "    }\n",
              "\n",
              "    .dataframe tbody tr th {\n",
              "        vertical-align: top;\n",
              "    }\n",
              "\n",
              "    .dataframe thead th {\n",
              "        text-align: right;\n",
              "    }\n",
              "</style>\n",
              "<table border=\"1\" class=\"dataframe\">\n",
              "  <thead>\n",
              "    <tr style=\"text-align: right;\">\n",
              "      <th></th>\n",
              "      <th>Room</th>\n",
              "      <th>Parking</th>\n",
              "      <th>Warehouse</th>\n",
              "      <th>Elevator</th>\n",
              "      <th>Price(USD)</th>\n",
              "    </tr>\n",
              "  </thead>\n",
              "  <tbody>\n",
              "    <tr>\n",
              "      <th>Room</th>\n",
              "      <td>1.000000</td>\n",
              "      <td>0.216146</td>\n",
              "      <td>0.218546</td>\n",
              "      <td>0.075399</td>\n",
              "      <td>0.650585</td>\n",
              "    </tr>\n",
              "    <tr>\n",
              "      <th>Parking</th>\n",
              "      <td>0.216146</td>\n",
              "      <td>1.000000</td>\n",
              "      <td>0.285379</td>\n",
              "      <td>0.413470</td>\n",
              "      <td>0.179829</td>\n",
              "    </tr>\n",
              "    <tr>\n",
              "      <th>Warehouse</th>\n",
              "      <td>0.218546</td>\n",
              "      <td>0.285379</td>\n",
              "      <td>1.000000</td>\n",
              "      <td>0.122071</td>\n",
              "      <td>0.108036</td>\n",
              "    </tr>\n",
              "    <tr>\n",
              "      <th>Elevator</th>\n",
              "      <td>0.075399</td>\n",
              "      <td>0.413470</td>\n",
              "      <td>0.122071</td>\n",
              "      <td>1.000000</td>\n",
              "      <td>-0.057400</td>\n",
              "    </tr>\n",
              "    <tr>\n",
              "      <th>Price(USD)</th>\n",
              "      <td>0.650585</td>\n",
              "      <td>0.179829</td>\n",
              "      <td>0.108036</td>\n",
              "      <td>-0.057400</td>\n",
              "      <td>1.000000</td>\n",
              "    </tr>\n",
              "  </tbody>\n",
              "</table>\n",
              "</div>"
            ],
            "text/plain": [
              "                Room   Parking  Warehouse  Elevator  Price(USD)\n",
              "Room        1.000000  0.216146   0.218546  0.075399    0.650585\n",
              "Parking     0.216146  1.000000   0.285379  0.413470    0.179829\n",
              "Warehouse   0.218546  0.285379   1.000000  0.122071    0.108036\n",
              "Elevator    0.075399  0.413470   0.122071  1.000000   -0.057400\n",
              "Price(USD)  0.650585  0.179829   0.108036 -0.057400    1.000000"
            ]
          },
          "metadata": {},
          "execution_count": 21
        }
      ]
    },
    {
      "cell_type": "code",
      "metadata": {
        "colab": {
          "base_uri": "https://localhost:8080/",
          "height": 286
        },
        "id": "GL_z2ALeTtxj",
        "outputId": "badb9515-b2e9-4b32-ab16-d2b28dc36275"
      },
      "source": [
        "sns.heatmap(data.corr())"
      ],
      "execution_count": null,
      "outputs": [
        {
          "output_type": "execute_result",
          "data": {
            "text/plain": [
              "<matplotlib.axes._subplots.AxesSubplot at 0x7f62e13cf090>"
            ]
          },
          "metadata": {},
          "execution_count": 22
        },
        {
          "output_type": "display_data",
          "data": {
            "image/png": "[encoded data removed]",
            "text/plain": [
              "<Figure size 432x288 with 2 Axes>"
            ]
          },
          "metadata": {
            "needs_background": "light"
          }
        }
      ]
    },
    {
      "cell_type": "code",
      "metadata": {
        "id": "gPbEZOQGUYiE"
      },
      "source": [
        "X = data.drop(columns=[\"Area\",\"Price(USD)\",\"Address\"])\n",
        "Y = data[\"Price(USD)\"]\n"
      ],
      "execution_count": null,
      "outputs": []
    },
    {
      "cell_type": "code",
      "metadata": {
        "id": "wm5cWKSSWhz9"
      },
      "source": [
        "from sklearn.model_selection import train_test_split\n",
        "x_train , x_test , y_train , y_test = train_test_split(X,Y,test_size=0.2)\n"
      ],
      "execution_count": null,
      "outputs": []
    },
    {
      "cell_type": "code",
      "metadata": {
        "colab": {
          "base_uri": "https://localhost:8080/"
        },
        "id": "ykf1_ZOjYB6Z",
        "outputId": "274a71d3-cc59-4b3e-b1c2-a592e2e365f7"
      },
      "source": [
        "from sklearn.linear_model import LinearRegression\n",
        "model = LinearRegression()\n",
        "model.fit(x_train,y_train)"
      ],
      "execution_count": null,
      "outputs": [
        {
          "output_type": "execute_result",
          "data": {
            "text/plain": [
              "LinearRegression()"
            ]
          },
          "metadata": {},
          "execution_count": 61
        }
      ]
    },
    {
      "cell_type": "code",
      "metadata": {
        "colab": {
          "base_uri": "https://localhost:8080/"
        },
        "id": "5yML0g79YUAf",
        "outputId": "0cc46a7f-0632-41f8-993a-9c40b119b80b"
      },
      "source": [
        "y_predict = model.predict(x_test)\n",
        "y_predict"
      ],
      "execution_count": null,
      "outputs": [
        {
          "output_type": "execute_result",
          "data": {
            "text/plain": [
              "array([ 130490.53204428, -184855.74528829,  445836.80937685,\n",
              "        445836.80937685,  259763.77153963,  445836.80937685,\n",
              "        -55582.50579293,  445836.80937685,  445836.80937685,\n",
              "        493688.26291006,  -55582.50579293,  445836.80937685,\n",
              "       -142199.47601749,  130490.53204428, -184855.74528829,\n",
              "        445836.80937685,  130490.53204428,  220998.25484829,\n",
              "        445836.80937685,   49068.74608214,  575110.0488722 ,\n",
              "        445836.80937685,  178341.98557749,  130490.53204428,\n",
              "        445836.80937685,  130490.53204428,  130490.53204428,\n",
              "        259763.77153963, -142199.47601749, -137004.29175507,\n",
              "        445836.80937685,  130490.53204428,  130490.53204428,\n",
              "        445836.80937685,  130490.53204428,  220998.25484829,\n",
              "        130490.53204428,  130490.53204428,  178341.98557749])"
            ]
          },
          "metadata": {},
          "execution_count": 62
        }
      ]
    },
    {
      "cell_type": "code",
      "metadata": {
        "id": "0Z_u0i7iZwRk"
      },
      "source": [
        "from sklearn import metrics\n",
        "import math\n",
        "MSE = metrics.mean_absolute_error(y_test,y_predict)\n",
        "MAE = metrics.mean_squared_error(y_test,y_predict)\n",
        "RMSE = RMSE = math.sqrt(MSE)"
      ],
      "execution_count": null,
      "outputs": []
    },
    {
      "cell_type": "code",
      "metadata": {
        "colab": {
          "base_uri": "https://localhost:8080/"
        },
        "id": "_9PEd6R4ayrA",
        "outputId": "1d09f467-7199-4d6e-d0e0-60746157fee3"
      },
      "source": [
        "MSE"
      ],
      "execution_count": null,
      "outputs": [
        {
          "output_type": "execute_result",
          "data": {
            "text/plain": [
              "183735.56570036305"
            ]
          },
          "metadata": {},
          "execution_count": 64
        }
      ]
    },
    {
      "cell_type": "code",
      "metadata": {
        "colab": {
          "base_uri": "https://localhost:8080/"
        },
        "id": "7zJxbWWKaz9R",
        "outputId": "cab512da-b162-4b27-a70d-1d9a4780605d"
      },
      "source": [
        "MAE"
      ],
      "execution_count": null,
      "outputs": [
        {
          "output_type": "execute_result",
          "data": {
            "text/plain": [
              "46669817370.401375"
            ]
          },
          "metadata": {},
          "execution_count": 65
        }
      ]
    },
    {
      "cell_type": "code",
      "metadata": {
        "colab": {
          "base_uri": "https://localhost:8080/"
        },
        "id": "-SaKLKB6bWY6",
        "outputId": "bc01e4eb-7a41-4459-dcfd-1dbc6357046a"
      },
      "source": [
        "RMSE"
      ],
      "execution_count": null,
      "outputs": [
        {
          "output_type": "execute_result",
          "data": {
            "text/plain": [
              "428.643868147397"
            ]
          },
          "metadata": {},
          "execution_count": 66
        }
      ]
    },
    {
      "cell_type": "code",
      "metadata": {
        "colab": {
          "base_uri": "https://localhost:8080/",
          "height": 386
        },
        "id": "p9VG_0Pob0eS",
        "outputId": "1895664a-a475-46dd-b17f-540f889051b2"
      },
      "source": [
        "error = y_test - y_predict\n",
        "sns.displot(error,bins=45,kde=True)"
      ],
      "execution_count": null,
      "outputs": [
        {
          "output_type": "execute_result",
          "data": {
            "text/plain": [
              "<seaborn.axisgrid.FacetGrid at 0x7f62cd91df50>"
            ]
          },
          "metadata": {},
          "execution_count": 68
        },
        {
          "output_type": "display_data",
          "data": {
            "image/png": "[encoded data removed]",
            "text/plain": [
              "<Figure size 360x360 with 1 Axes>"
            ]
          },
          "metadata": {
            "needs_background": "light"
          }
        }
      ]
    },
    {
      "cell_type": "code",
      "metadata": {
        "colab": {
          "base_uri": "https://localhost:8080/",
          "height": 299
        },
        "id": "lPu88-bEctaL",
        "outputId": "e6c759b2-27fb-4d6e-9299-87289799e699"
      },
      "source": [
        "sns.scatterplot(x=y_test,y=error)\n",
        "plt.axhline(y=0,color='r',ls='--')"
      ],
      "execution_count": null,
      "outputs": [
        {
          "output_type": "execute_result",
          "data": {
            "text/plain": [
              "<matplotlib.lines.Line2D at 0x7f62cd7cec90>"
            ]
          },
          "metadata": {},
          "execution_count": 70
        },
        {
          "output_type": "display_data",
          "data": {
            "image/png": "[encoded data removed]",
            "text/plain": [
              "<Figure size 432x288 with 1 Axes>"
            ]
          },
          "metadata": {
            "needs_background": "light"
          }
        }
      ]
    }
  ]
}